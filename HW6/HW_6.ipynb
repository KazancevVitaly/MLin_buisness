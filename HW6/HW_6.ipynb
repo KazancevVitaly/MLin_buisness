{
 "cells": [
  {
   "cell_type": "markdown",
   "id": "294e543b",
   "metadata": {},
   "source": [
    "# GeekBrains\n",
    "## Машинное обучение в бизнесе\n",
    "## ДЗ Урока 6 (Задача look-alike)\n",
    "## Виталий Казанцев"
   ]
  },
  {
   "cell_type": "markdown",
   "id": "32b7503e",
   "metadata": {},
   "source": [
    "### Домашнее задание\n",
    "\n",
    "1. взять любой набор данных для бинарной классификации (можно скачать один из модельных с https://archive.ics.uci.edu/ml/datasets.php)\n",
    "3. сделать feature engineering\n",
    "4. обучить любой классификатор (какой вам нравится)\n",
    "5. далее разделить ваш набор данных на два множества: P (positives) и U (unlabeled). Причем брать нужно не все положительные (класс 1) примеры, а только лишь часть\n",
    "6. применить random negative sampling для построения классификатора в новых условиях\n",
    "7. сравнить качество с решением из пункта 4 (построить отчет - таблицу метрик)\n",
    "8. поэкспериментировать с долей P на шаге 5 (как будет меняться качество модели при уменьшении/увеличении размера P)"
   ]
  },
  {
   "cell_type": "code",
   "execution_count": 1,
   "id": "64d03438",
   "metadata": {},
   "outputs": [],
   "source": [
    "import numpy as np\n",
    "import pandas as pd\n",
    "\n",
    "from sklearn.linear_model import LogisticRegression\n",
    "\n",
    "from nltk.corpus import stopwords\n",
    "from sklearn.feature_extraction.text import TfidfVectorizer, CountVectorizer\n",
    "from sklearn.model_selection import train_test_split\n",
    "from sklearn import preprocessing\n",
    "from sklearn.metrics import recall_score, precision_score, roc_auc_score, accuracy_score, f1_score"
   ]
  },
  {
   "cell_type": "markdown",
   "id": "9dceb515",
   "metadata": {},
   "source": [
    "__TASK 1__  \n",
    "https://www.kaggle.com/datasets/jcblaise/imdb-sentiments"
   ]
  },
  {
   "cell_type": "code",
   "execution_count": 2,
   "id": "5f556a0c",
   "metadata": {
    "scrolled": true
   },
   "outputs": [
    {
     "data": {
      "text/html": [
       "<div>\n",
       "<style scoped>\n",
       "    .dataframe tbody tr th:only-of-type {\n",
       "        vertical-align: middle;\n",
       "    }\n",
       "\n",
       "    .dataframe tbody tr th {\n",
       "        vertical-align: top;\n",
       "    }\n",
       "\n",
       "    .dataframe thead th {\n",
       "        text-align: right;\n",
       "    }\n",
       "</style>\n",
       "<table border=\"1\" class=\"dataframe\">\n",
       "  <thead>\n",
       "    <tr style=\"text-align: right;\">\n",
       "      <th></th>\n",
       "      <th>text</th>\n",
       "      <th>sentiment</th>\n",
       "    </tr>\n",
       "  </thead>\n",
       "  <tbody>\n",
       "    <tr>\n",
       "      <th>650</th>\n",
       "      <td>The number of times I've had tears in my eyes ...</td>\n",
       "      <td>0</td>\n",
       "    </tr>\n",
       "    <tr>\n",
       "      <th>1153</th>\n",
       "      <td>I already loved \"How the Grinch Stole Christma...</td>\n",
       "      <td>0</td>\n",
       "    </tr>\n",
       "    <tr>\n",
       "      <th>18400</th>\n",
       "      <td>This very low budget comedy caper movie succee...</td>\n",
       "      <td>1</td>\n",
       "    </tr>\n",
       "    <tr>\n",
       "      <th>22125</th>\n",
       "      <td>I really wanted to like this movie because the...</td>\n",
       "      <td>1</td>\n",
       "    </tr>\n",
       "    <tr>\n",
       "      <th>1124</th>\n",
       "      <td>Definitely one of the lesser of the Astaire/Ro...</td>\n",
       "      <td>0</td>\n",
       "    </tr>\n",
       "  </tbody>\n",
       "</table>\n",
       "</div>"
      ],
      "text/plain": [
       "                                                    text  sentiment\n",
       "650    The number of times I've had tears in my eyes ...          0\n",
       "1153   I already loved \"How the Grinch Stole Christma...          0\n",
       "18400  This very low budget comedy caper movie succee...          1\n",
       "22125  I really wanted to like this movie because the...          1\n",
       "1124   Definitely one of the lesser of the Astaire/Ro...          0"
      ]
     },
     "execution_count": 2,
     "metadata": {},
     "output_type": "execute_result"
    }
   ],
   "source": [
    "df = pd.read_csv('../data/train.csv')\n",
    "df.sample(5)"
   ]
  },
  {
   "cell_type": "code",
   "execution_count": 3,
   "id": "6be4bf50",
   "metadata": {},
   "outputs": [
    {
     "data": {
      "text/plain": [
       "(25000, 2)"
      ]
     },
     "execution_count": 3,
     "metadata": {},
     "output_type": "execute_result"
    }
   ],
   "source": [
    "df.shape"
   ]
  },
  {
   "cell_type": "code",
   "execution_count": 4,
   "id": "3dc720b9",
   "metadata": {
    "scrolled": true
   },
   "outputs": [
    {
     "name": "stdout",
     "output_type": "stream",
     "text": [
      "<class 'pandas.core.frame.DataFrame'>\n",
      "RangeIndex: 25000 entries, 0 to 24999\n",
      "Data columns (total 2 columns):\n",
      " #   Column     Non-Null Count  Dtype \n",
      "---  ------     --------------  ----- \n",
      " 0   text       25000 non-null  object\n",
      " 1   sentiment  25000 non-null  int64 \n",
      "dtypes: int64(1), object(1)\n",
      "memory usage: 390.8+ KB\n"
     ]
    }
   ],
   "source": [
    "df.info()"
   ]
  },
  {
   "cell_type": "markdown",
   "id": "f2ae820f",
   "metadata": {},
   "source": [
    "__TASK 2__  \n",
    "feature engineering в выбранных мною данных не нужен, а вот препроцессинг провести стоит"
   ]
  },
  {
   "cell_type": "code",
   "execution_count": 5,
   "id": "7098462d",
   "metadata": {},
   "outputs": [],
   "source": [
    "import re\n",
    "corpus = []\n",
    "for i in range(0, 25000):\n",
    "    review = re.sub(r'\\W', ' ', str(df[\"text\"][i]))\n",
    "    review = review.lower()\n",
    "    review = re.sub(r'^br$', ' ', review)\n",
    "    review = re.sub(r'\\s+br\\s+',' ',review)\n",
    "    review = re.sub(r'\\s+[a-z]\\s+', ' ',review)\n",
    "    review = re.sub(r'^b\\s+', '', review)\n",
    "    review = re.sub(r'\\s+', ' ', review)\n",
    "    corpus.append(review)"
   ]
  },
  {
   "cell_type": "code",
   "execution_count": 6,
   "id": "f3ffe033",
   "metadata": {},
   "outputs": [],
   "source": [
    "vectorizer = TfidfVectorizer(max_features = 2000, min_df = 3, max_df = 0.6, stop_words = stopwords.words('english'))\n",
    "X = vectorizer.fit_transform(corpus).toarray()"
   ]
  },
  {
   "cell_type": "code",
   "execution_count": 7,
   "id": "208b5415",
   "metadata": {},
   "outputs": [],
   "source": [
    "train_x, test_x, train_y, test_y = train_test_split(X, df['sentiment'])\n",
    "encoder = preprocessing.LabelEncoder()\n",
    "train_y = encoder.fit_transform(train_y)\n",
    "test_y = encoder.fit_transform(test_y)"
   ]
  },
  {
   "cell_type": "markdown",
   "id": "3ebf3023",
   "metadata": {},
   "source": [
    "__TASK 3__"
   ]
  },
  {
   "cell_type": "code",
   "execution_count": 8,
   "id": "2abcc0c7",
   "metadata": {},
   "outputs": [
    {
     "data": {
      "text/plain": [
       "LogisticRegression()"
      ]
     },
     "execution_count": 8,
     "metadata": {},
     "output_type": "execute_result"
    }
   ],
   "source": [
    "classifier = LogisticRegression()\n",
    "classifier.fit(train_x,train_y)"
   ]
  },
  {
   "cell_type": "code",
   "execution_count": 9,
   "id": "7064c7b3",
   "metadata": {},
   "outputs": [],
   "source": [
    "def model_quality(model, train_x, train_y, test_x, test_y):\n",
    "    model.fit(train_x, train_y)\n",
    "    y_pred = model.predict(test_x)\n",
    "    \n",
    "    f1 = f1_score(test_y, y_pred)\n",
    "    roc = roc_auc_score(test_y, y_pred)\n",
    "    prec = precision_score(test_y, y_pred, average='binary')\n",
    "    rec = recall_score(test_y, y_pred, average='binary')\n",
    "    \n",
    "    return {'f1': [f1], 'roc-auc': [roc], 'precision': [prec], 'recall': [rec]}"
   ]
  },
  {
   "cell_type": "code",
   "execution_count": 10,
   "id": "a1c41b93",
   "metadata": {
    "scrolled": true
   },
   "outputs": [
    {
     "data": {
      "text/plain": [
       "[{'normal': {'f1': [0.8667736757624398],\n",
       "   'roc-auc': [0.8672430728446006],\n",
       "   'precision': [0.8743523316062176],\n",
       "   'recall': [0.8593252705283259]}}]"
      ]
     },
     "execution_count": 10,
     "metadata": {},
     "output_type": "execute_result"
    }
   ],
   "source": [
    "metrics = []\n",
    "metrics.append({'normal': model_quality(classifier, train_x, train_y, test_x, test_y)})\n",
    "metrics"
   ]
  },
  {
   "cell_type": "markdown",
   "id": "ff7e1dd9",
   "metadata": {},
   "source": [
    "__TASK 4__"
   ]
  },
  {
   "cell_type": "code",
   "execution_count": 11,
   "id": "781a9bfd",
   "metadata": {},
   "outputs": [],
   "source": [
    "pos_frac = 0.2\n",
    "sdf = df.copy()\n",
    "pos_mask = (df['sentiment'] == 1)\n",
    "pos_ind = df[pos_mask].sample(frac=pos_frac).index\n",
    "unlab_ind = df[~df.index.isin(pos_ind)].index\n",
    "    \n",
    "# Помечаем данные признаком is_labeled - Positive = 1, Unlabeled = 0\n",
    "sdf.loc[pos_ind, 'is_labeled'] = 1\n",
    "sdf.loc[unlab_ind, 'is_labeled'] = 0\n",
    "sdf['is_labeled'] = sdf['is_labeled'].astype(int)"
   ]
  },
  {
   "cell_type": "code",
   "execution_count": 12,
   "id": "fc4f5d48",
   "metadata": {},
   "outputs": [
    {
     "data": {
      "text/html": [
       "<div>\n",
       "<style scoped>\n",
       "    .dataframe tbody tr th:only-of-type {\n",
       "        vertical-align: middle;\n",
       "    }\n",
       "\n",
       "    .dataframe tbody tr th {\n",
       "        vertical-align: top;\n",
       "    }\n",
       "\n",
       "    .dataframe thead th {\n",
       "        text-align: right;\n",
       "    }\n",
       "</style>\n",
       "<table border=\"1\" class=\"dataframe\">\n",
       "  <thead>\n",
       "    <tr style=\"text-align: right;\">\n",
       "      <th></th>\n",
       "      <th>text</th>\n",
       "      <th>sentiment</th>\n",
       "      <th>is_labeled</th>\n",
       "    </tr>\n",
       "  </thead>\n",
       "  <tbody>\n",
       "    <tr>\n",
       "      <th>0</th>\n",
       "      <td>For a movie that gets no respect there sure ar...</td>\n",
       "      <td>0</td>\n",
       "      <td>0</td>\n",
       "    </tr>\n",
       "    <tr>\n",
       "      <th>1</th>\n",
       "      <td>Bizarre horror movie filled with famous faces ...</td>\n",
       "      <td>0</td>\n",
       "      <td>0</td>\n",
       "    </tr>\n",
       "    <tr>\n",
       "      <th>2</th>\n",
       "      <td>A solid, if unremarkable film. Matthau, as Ein...</td>\n",
       "      <td>0</td>\n",
       "      <td>0</td>\n",
       "    </tr>\n",
       "    <tr>\n",
       "      <th>3</th>\n",
       "      <td>It's a strange feeling to sit alone in a theat...</td>\n",
       "      <td>0</td>\n",
       "      <td>0</td>\n",
       "    </tr>\n",
       "    <tr>\n",
       "      <th>4</th>\n",
       "      <td>You probably all already know this by now, but...</td>\n",
       "      <td>0</td>\n",
       "      <td>0</td>\n",
       "    </tr>\n",
       "  </tbody>\n",
       "</table>\n",
       "</div>"
      ],
      "text/plain": [
       "                                                text  sentiment  is_labeled\n",
       "0  For a movie that gets no respect there sure ar...          0           0\n",
       "1  Bizarre horror movie filled with famous faces ...          0           0\n",
       "2  A solid, if unremarkable film. Matthau, as Ein...          0           0\n",
       "3  It's a strange feeling to sit alone in a theat...          0           0\n",
       "4  You probably all already know this by now, but...          0           0"
      ]
     },
     "execution_count": 12,
     "metadata": {},
     "output_type": "execute_result"
    }
   ],
   "source": [
    "sdf.head(5)"
   ]
  },
  {
   "cell_type": "markdown",
   "id": "661a4f87",
   "metadata": {},
   "source": [
    "__TASK 5__"
   ]
  },
  {
   "cell_type": "code",
   "execution_count": 13,
   "id": "92cfa6fd",
   "metadata": {},
   "outputs": [],
   "source": [
    "def get_rns_samples(rns_df):\n",
    "    \"\"\"\n",
    "    Создает тренировочную и тестовую выборки для RNS на основе признака is_labeled.\n",
    "    \"\"\"\n",
    "    rns_df = rns_df.sample(frac=1)\n",
    "\n",
    "    pos_sample = rns_df[rns_df['is_labeled'] == 1]\n",
    "    neg_sample = rns_df[rns_df['is_labeled'] == 0][:pos_sample.shape[0]]\n",
    "    train_samples = pd.concat([neg_sample, pos_sample]).sample(frac=1)\n",
    "    test_samples = rns_df[rns_df['is_labeled'] == 0][pos_sample.shape[0]:]\n",
    "    \n",
    "    return train_samples, test_samples"
   ]
  },
  {
   "cell_type": "code",
   "execution_count": 14,
   "id": "dab54b37",
   "metadata": {},
   "outputs": [],
   "source": [
    "train_samples, test_samples = get_rns_samples(sdf)"
   ]
  },
  {
   "cell_type": "code",
   "execution_count": 15,
   "id": "d17a55a3",
   "metadata": {
    "scrolled": true
   },
   "outputs": [
    {
     "data": {
      "text/plain": [
       "((5000, 3), (20000, 3))"
      ]
     },
     "execution_count": 15,
     "metadata": {},
     "output_type": "execute_result"
    }
   ],
   "source": [
    "train_samples.shape, test_samples.shape"
   ]
  },
  {
   "cell_type": "code",
   "execution_count": null,
   "id": "451a16b3",
   "metadata": {},
   "outputs": [],
   "source": []
  },
  {
   "cell_type": "code",
   "execution_count": null,
   "id": "4db70469",
   "metadata": {},
   "outputs": [],
   "source": []
  },
  {
   "cell_type": "code",
   "execution_count": null,
   "id": "45083610",
   "metadata": {},
   "outputs": [],
   "source": []
  },
  {
   "cell_type": "code",
   "execution_count": null,
   "id": "f960aa4e",
   "metadata": {},
   "outputs": [],
   "source": []
  },
  {
   "cell_type": "code",
   "execution_count": null,
   "id": "38dca80d",
   "metadata": {},
   "outputs": [],
   "source": []
  },
  {
   "cell_type": "code",
   "execution_count": null,
   "id": "98ce85a1",
   "metadata": {},
   "outputs": [],
   "source": []
  },
  {
   "cell_type": "code",
   "execution_count": null,
   "id": "6cd456fa",
   "metadata": {},
   "outputs": [],
   "source": []
  }
 ],
 "metadata": {
  "kernelspec": {
   "display_name": "Python 3 (ipykernel)",
   "language": "python",
   "name": "python3"
  },
  "language_info": {
   "codemirror_mode": {
    "name": "ipython",
    "version": 3
   },
   "file_extension": ".py",
   "mimetype": "text/x-python",
   "name": "python",
   "nbconvert_exporter": "python",
   "pygments_lexer": "ipython3",
   "version": "3.9.6"
  }
 },
 "nbformat": 4,
 "nbformat_minor": 5
}
